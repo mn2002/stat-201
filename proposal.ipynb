{
 "cells": [
  {
   "cell_type": "markdown",
   "id": "organizational-morris",
   "metadata": {},
   "source": [
    "# TITLE"
   ]
  },
  {
   "cell_type": "markdown",
   "id": "dietary-cannon",
   "metadata": {},
   "source": [
    "## Introduction\n",
    "\n",
    "Add introduction here"
   ]
  },
  {
   "cell_type": "markdown",
   "id": "worthy-magnet",
   "metadata": {},
   "source": [
    "## Preliminary Results"
   ]
  },
  {
   "cell_type": "markdown",
   "id": "cooperative-break",
   "metadata": {},
   "source": [
    "### Importing Modules"
   ]
  },
  {
   "cell_type": "code",
   "execution_count": 1,
   "id": "indirect-emperor",
   "metadata": {},
   "outputs": [
    {
     "name": "stderr",
     "output_type": "stream",
     "text": [
      "── \u001b[1mAttaching packages\u001b[22m ─────────────────────────────────────── tidyverse 1.3.0 ──\n",
      "\n",
      "\u001b[32m✔\u001b[39m \u001b[34mggplot2\u001b[39m 3.3.3     \u001b[32m✔\u001b[39m \u001b[34mpurrr  \u001b[39m 0.3.4\n",
      "\u001b[32m✔\u001b[39m \u001b[34mtibble \u001b[39m 3.0.6     \u001b[32m✔\u001b[39m \u001b[34mdplyr  \u001b[39m 1.0.4\n",
      "\u001b[32m✔\u001b[39m \u001b[34mtidyr  \u001b[39m 1.1.2     \u001b[32m✔\u001b[39m \u001b[34mstringr\u001b[39m 1.4.0\n",
      "\u001b[32m✔\u001b[39m \u001b[34mreadr  \u001b[39m 1.4.0     \u001b[32m✔\u001b[39m \u001b[34mforcats\u001b[39m 0.5.1\n",
      "\n",
      "── \u001b[1mConflicts\u001b[22m ────────────────────────────────────────── tidyverse_conflicts() ──\n",
      "\u001b[31m✖\u001b[39m \u001b[34mdplyr\u001b[39m::\u001b[32mfilter()\u001b[39m masks \u001b[34mstats\u001b[39m::filter()\n",
      "\u001b[31m✖\u001b[39m \u001b[34mdplyr\u001b[39m::\u001b[32mlag()\u001b[39m    masks \u001b[34mstats\u001b[39m::lag()\n",
      "\n"
     ]
    }
   ],
   "source": [
    "library(cowplot)\n",
    "library(datateachr)\n",
    "library(digest)\n",
    "library(infer)\n",
    "library(repr)\n",
    "library(taxyvr)\n",
    "library(tidyverse)\n",
    "library(dplyr)\n",
    "library(datateachr)"
   ]
  },
  {
   "cell_type": "markdown",
   "id": "conceptual-parallel",
   "metadata": {},
   "source": [
    "### Downloading Dataset"
   ]
  },
  {
   "cell_type": "code",
   "execution_count": 5,
   "id": "correct-regulation",
   "metadata": {},
   "outputs": [
    {
     "name": "stderr",
     "output_type": "stream",
     "text": [
      "\n",
      "\u001b[36m──\u001b[39m \u001b[1m\u001b[1mColumn specification\u001b[1m\u001b[22m \u001b[36m────────────────────────────────────────────────────────\u001b[39m\n",
      "cols(\n",
      "  .default = col_double(),\n",
      "  Name = \u001b[31mcol_character()\u001b[39m,\n",
      "  `State abbreviation` = \u001b[31mcol_character()\u001b[39m,\n",
      "  `FIPS state code` = \u001b[31mcol_character()\u001b[39m,\n",
      "  `Geographic region` = \u001b[31mcol_character()\u001b[39m,\n",
      "  `Sector of institution` = \u001b[31mcol_character()\u001b[39m,\n",
      "  `Level of institution` = \u001b[31mcol_character()\u001b[39m,\n",
      "  `Control of institution` = \u001b[31mcol_character()\u001b[39m,\n",
      "  `Historically Black College or University` = \u001b[31mcol_character()\u001b[39m,\n",
      "  `Tribal college` = \u001b[31mcol_character()\u001b[39m,\n",
      "  `Degree of urbanization (Urban-centric locale)` = \u001b[31mcol_character()\u001b[39m,\n",
      "  `Carnegie Classification 2010: Basic` = \u001b[31mcol_character()\u001b[39m\n",
      ")\n",
      "\u001b[36mℹ\u001b[39m Use \u001b[30m\u001b[47m\u001b[30m\u001b[47m`spec()`\u001b[47m\u001b[30m\u001b[49m\u001b[39m for the full column specifications.\n",
      "\n",
      "\n"
     ]
    },
    {
     "data": {
      "text/html": [
       "<table class=\"dataframe\">\n",
       "<caption>A tibble: 6 × 108</caption>\n",
       "<thead>\n",
       "\t<tr><th scope=col>Name</th><th scope=col>Applicants total</th><th scope=col>Admissions total</th><th scope=col>Enrolled total</th><th scope=col>Percent of freshmen submitting SAT scores</th><th scope=col>Percent of freshmen submitting ACT scores</th><th scope=col>SAT Critical Reading 25th percentile score</th><th scope=col>SAT Critical Reading 75th percentile score</th><th scope=col>SAT Math 25th percentile score</th><th scope=col>SAT Math 75th percentile score</th><th scope=col>⋯</th><th scope=col>Percent of freshmen  receiving federal grant aid</th><th scope=col>Percent of freshmen receiving Pell grants</th><th scope=col>Percent of freshmen receiving other federal grant aid</th><th scope=col>Percent of freshmen receiving state/local grant aid</th><th scope=col>Percent of freshmen receiving institutional grant aid</th><th scope=col>Percent of freshmen receiving student loan aid</th><th scope=col>Percent of freshmen receiving federal student loans</th><th scope=col>Percent of freshmen receiving other loan aid</th><th scope=col>Endowment assets (year end) per FTE enrollment (GASB)</th><th scope=col>Endowment assets (year end) per FTE enrollment (FASB)</th></tr>\n",
       "\t<tr><th scope=col>&lt;chr&gt;</th><th scope=col>&lt;dbl&gt;</th><th scope=col>&lt;dbl&gt;</th><th scope=col>&lt;dbl&gt;</th><th scope=col>&lt;dbl&gt;</th><th scope=col>&lt;dbl&gt;</th><th scope=col>&lt;dbl&gt;</th><th scope=col>&lt;dbl&gt;</th><th scope=col>&lt;dbl&gt;</th><th scope=col>&lt;dbl&gt;</th><th scope=col>⋯</th><th scope=col>&lt;dbl&gt;</th><th scope=col>&lt;dbl&gt;</th><th scope=col>&lt;dbl&gt;</th><th scope=col>&lt;dbl&gt;</th><th scope=col>&lt;dbl&gt;</th><th scope=col>&lt;dbl&gt;</th><th scope=col>&lt;dbl&gt;</th><th scope=col>&lt;dbl&gt;</th><th scope=col>&lt;dbl&gt;</th><th scope=col>&lt;dbl&gt;</th></tr>\n",
       "</thead>\n",
       "<tbody>\n",
       "\t<tr><td><span style=white-space:pre-wrap>Alabama A &amp; M University           </span></td><td> 6142</td><td> 5521</td><td>1104</td><td>15</td><td>88</td><td>370</td><td>450</td><td>350</td><td>450</td><td>⋯</td><td>81</td><td>81</td><td> 7</td><td> 1</td><td>32</td><td> 89</td><td> 89</td><td>1</td><td><span style=white-space:pre-wrap>   NA</span></td><td> NA</td></tr>\n",
       "\t<tr><td>University of Alabama at Birmingham</td><td> 5689</td><td> 4934</td><td>1773</td><td> 6</td><td>93</td><td>520</td><td>640</td><td>520</td><td>650</td><td>⋯</td><td>36</td><td>36</td><td>10</td><td> 0</td><td>60</td><td> 56</td><td> 55</td><td>5</td><td>24136</td><td> NA</td></tr>\n",
       "\t<tr><td>Amridge University                 </td><td>   NA</td><td>   NA</td><td>  NA</td><td>NA</td><td>NA</td><td> NA</td><td> NA</td><td> NA</td><td> NA</td><td>⋯</td><td>90</td><td>90</td><td> 0</td><td>40</td><td>90</td><td>100</td><td>100</td><td>0</td><td>   NA</td><td>302</td></tr>\n",
       "\t<tr><td>University of Alabama in Huntsville</td><td> 2054</td><td> 1656</td><td> 651</td><td>34</td><td>94</td><td>510</td><td>640</td><td>510</td><td>650</td><td>⋯</td><td>31</td><td>31</td><td> 4</td><td> 1</td><td>63</td><td> 46</td><td> 46</td><td>3</td><td>11502</td><td> NA</td></tr>\n",
       "\t<tr><td>Alabama State University           </td><td>10245</td><td> 5251</td><td>1479</td><td>18</td><td>87</td><td>380</td><td>480</td><td>370</td><td>480</td><td>⋯</td><td>76</td><td>76</td><td>13</td><td>11</td><td>34</td><td> 81</td><td> 81</td><td>0</td><td>13202</td><td> NA</td></tr>\n",
       "\t<tr><td>The University of Alabama          </td><td>30975</td><td>17515</td><td>6454</td><td>23</td><td>76</td><td>490</td><td>620</td><td>500</td><td>640</td><td>⋯</td><td>20</td><td>18</td><td> 4</td><td> 3</td><td>50</td><td> 42</td><td> 41</td><td>8</td><td>19469</td><td> NA</td></tr>\n",
       "</tbody>\n",
       "</table>\n"
      ],
      "text/latex": [
       "A tibble: 6 × 108\n",
       "\\begin{tabular}{lllllllllllllllllllll}\n",
       " Name & Applicants total & Admissions total & Enrolled total & Percent of freshmen submitting SAT scores & Percent of freshmen submitting ACT scores & SAT Critical Reading 25th percentile score & SAT Critical Reading 75th percentile score & SAT Math 25th percentile score & SAT Math 75th percentile score & ⋯ & Percent of freshmen  receiving federal grant aid & Percent of freshmen receiving Pell grants & Percent of freshmen receiving other federal grant aid & Percent of freshmen receiving state/local grant aid & Percent of freshmen receiving institutional grant aid & Percent of freshmen receiving student loan aid & Percent of freshmen receiving federal student loans & Percent of freshmen receiving other loan aid & Endowment assets (year end) per FTE enrollment (GASB) & Endowment assets (year end) per FTE enrollment (FASB)\\\\\n",
       " <chr> & <dbl> & <dbl> & <dbl> & <dbl> & <dbl> & <dbl> & <dbl> & <dbl> & <dbl> & ⋯ & <dbl> & <dbl> & <dbl> & <dbl> & <dbl> & <dbl> & <dbl> & <dbl> & <dbl> & <dbl>\\\\\n",
       "\\hline\n",
       "\t Alabama A \\& M University            &  6142 &  5521 & 1104 & 15 & 88 & 370 & 450 & 350 & 450 & ⋯ & 81 & 81 &  7 &  1 & 32 &  89 &  89 & 1 &    NA &  NA\\\\\n",
       "\t University of Alabama at Birmingham &  5689 &  4934 & 1773 &  6 & 93 & 520 & 640 & 520 & 650 & ⋯ & 36 & 36 & 10 &  0 & 60 &  56 &  55 & 5 & 24136 &  NA\\\\\n",
       "\t Amridge University                  &    NA &    NA &   NA & NA & NA &  NA &  NA &  NA &  NA & ⋯ & 90 & 90 &  0 & 40 & 90 & 100 & 100 & 0 &    NA & 302\\\\\n",
       "\t University of Alabama in Huntsville &  2054 &  1656 &  651 & 34 & 94 & 510 & 640 & 510 & 650 & ⋯ & 31 & 31 &  4 &  1 & 63 &  46 &  46 & 3 & 11502 &  NA\\\\\n",
       "\t Alabama State University            & 10245 &  5251 & 1479 & 18 & 87 & 380 & 480 & 370 & 480 & ⋯ & 76 & 76 & 13 & 11 & 34 &  81 &  81 & 0 & 13202 &  NA\\\\\n",
       "\t The University of Alabama           & 30975 & 17515 & 6454 & 23 & 76 & 490 & 620 & 500 & 640 & ⋯ & 20 & 18 &  4 &  3 & 50 &  42 &  41 & 8 & 19469 &  NA\\\\\n",
       "\\end{tabular}\n"
      ],
      "text/markdown": [
       "\n",
       "A tibble: 6 × 108\n",
       "\n",
       "| Name &lt;chr&gt; | Applicants total &lt;dbl&gt; | Admissions total &lt;dbl&gt; | Enrolled total &lt;dbl&gt; | Percent of freshmen submitting SAT scores &lt;dbl&gt; | Percent of freshmen submitting ACT scores &lt;dbl&gt; | SAT Critical Reading 25th percentile score &lt;dbl&gt; | SAT Critical Reading 75th percentile score &lt;dbl&gt; | SAT Math 25th percentile score &lt;dbl&gt; | SAT Math 75th percentile score &lt;dbl&gt; | ⋯ ⋯ | Percent of freshmen  receiving federal grant aid &lt;dbl&gt; | Percent of freshmen receiving Pell grants &lt;dbl&gt; | Percent of freshmen receiving other federal grant aid &lt;dbl&gt; | Percent of freshmen receiving state/local grant aid &lt;dbl&gt; | Percent of freshmen receiving institutional grant aid &lt;dbl&gt; | Percent of freshmen receiving student loan aid &lt;dbl&gt; | Percent of freshmen receiving federal student loans &lt;dbl&gt; | Percent of freshmen receiving other loan aid &lt;dbl&gt; | Endowment assets (year end) per FTE enrollment (GASB) &lt;dbl&gt; | Endowment assets (year end) per FTE enrollment (FASB) &lt;dbl&gt; |\n",
       "|---|---|---|---|---|---|---|---|---|---|---|---|---|---|---|---|---|---|---|---|---|\n",
       "| Alabama A &amp; M University            |  6142 |  5521 | 1104 | 15 | 88 | 370 | 450 | 350 | 450 | ⋯ | 81 | 81 |  7 |  1 | 32 |  89 |  89 | 1 |    NA |  NA |\n",
       "| University of Alabama at Birmingham |  5689 |  4934 | 1773 |  6 | 93 | 520 | 640 | 520 | 650 | ⋯ | 36 | 36 | 10 |  0 | 60 |  56 |  55 | 5 | 24136 |  NA |\n",
       "| Amridge University                  |    NA |    NA |   NA | NA | NA |  NA |  NA |  NA |  NA | ⋯ | 90 | 90 |  0 | 40 | 90 | 100 | 100 | 0 |    NA | 302 |\n",
       "| University of Alabama in Huntsville |  2054 |  1656 |  651 | 34 | 94 | 510 | 640 | 510 | 650 | ⋯ | 31 | 31 |  4 |  1 | 63 |  46 |  46 | 3 | 11502 |  NA |\n",
       "| Alabama State University            | 10245 |  5251 | 1479 | 18 | 87 | 380 | 480 | 370 | 480 | ⋯ | 76 | 76 | 13 | 11 | 34 |  81 |  81 | 0 | 13202 |  NA |\n",
       "| The University of Alabama           | 30975 | 17515 | 6454 | 23 | 76 | 490 | 620 | 500 | 640 | ⋯ | 20 | 18 |  4 |  3 | 50 |  42 |  41 | 8 | 19469 |  NA |\n",
       "\n"
      ],
      "text/plain": [
       "  Name                                Applicants total Admissions total\n",
       "1 Alabama A & M University             6142             5521           \n",
       "2 University of Alabama at Birmingham  5689             4934           \n",
       "3 Amridge University                     NA               NA           \n",
       "4 University of Alabama in Huntsville  2054             1656           \n",
       "5 Alabama State University            10245             5251           \n",
       "6 The University of Alabama           30975            17515           \n",
       "  Enrolled total Percent of freshmen submitting SAT scores\n",
       "1 1104           15                                       \n",
       "2 1773            6                                       \n",
       "3   NA           NA                                       \n",
       "4  651           34                                       \n",
       "5 1479           18                                       \n",
       "6 6454           23                                       \n",
       "  Percent of freshmen submitting ACT scores\n",
       "1 88                                       \n",
       "2 93                                       \n",
       "3 NA                                       \n",
       "4 94                                       \n",
       "5 87                                       \n",
       "6 76                                       \n",
       "  SAT Critical Reading 25th percentile score\n",
       "1 370                                       \n",
       "2 520                                       \n",
       "3  NA                                       \n",
       "4 510                                       \n",
       "5 380                                       \n",
       "6 490                                       \n",
       "  SAT Critical Reading 75th percentile score SAT Math 25th percentile score\n",
       "1 450                                        350                           \n",
       "2 640                                        520                           \n",
       "3  NA                                         NA                           \n",
       "4 640                                        510                           \n",
       "5 480                                        370                           \n",
       "6 620                                        500                           \n",
       "  SAT Math 75th percentile score ⋯\n",
       "1 450                            ⋯\n",
       "2 650                            ⋯\n",
       "3  NA                            ⋯\n",
       "4 650                            ⋯\n",
       "5 480                            ⋯\n",
       "6 640                            ⋯\n",
       "  Percent of freshmen  receiving federal grant aid\n",
       "1 81                                              \n",
       "2 36                                              \n",
       "3 90                                              \n",
       "4 31                                              \n",
       "5 76                                              \n",
       "6 20                                              \n",
       "  Percent of freshmen receiving Pell grants\n",
       "1 81                                       \n",
       "2 36                                       \n",
       "3 90                                       \n",
       "4 31                                       \n",
       "5 76                                       \n",
       "6 18                                       \n",
       "  Percent of freshmen receiving other federal grant aid\n",
       "1  7                                                   \n",
       "2 10                                                   \n",
       "3  0                                                   \n",
       "4  4                                                   \n",
       "5 13                                                   \n",
       "6  4                                                   \n",
       "  Percent of freshmen receiving state/local grant aid\n",
       "1  1                                                 \n",
       "2  0                                                 \n",
       "3 40                                                 \n",
       "4  1                                                 \n",
       "5 11                                                 \n",
       "6  3                                                 \n",
       "  Percent of freshmen receiving institutional grant aid\n",
       "1 32                                                   \n",
       "2 60                                                   \n",
       "3 90                                                   \n",
       "4 63                                                   \n",
       "5 34                                                   \n",
       "6 50                                                   \n",
       "  Percent of freshmen receiving student loan aid\n",
       "1  89                                           \n",
       "2  56                                           \n",
       "3 100                                           \n",
       "4  46                                           \n",
       "5  81                                           \n",
       "6  42                                           \n",
       "  Percent of freshmen receiving federal student loans\n",
       "1  89                                                \n",
       "2  55                                                \n",
       "3 100                                                \n",
       "4  46                                                \n",
       "5  81                                                \n",
       "6  41                                                \n",
       "  Percent of freshmen receiving other loan aid\n",
       "1 1                                           \n",
       "2 5                                           \n",
       "3 0                                           \n",
       "4 3                                           \n",
       "5 0                                           \n",
       "6 8                                           \n",
       "  Endowment assets (year end) per FTE enrollment (GASB)\n",
       "1    NA                                                \n",
       "2 24136                                                \n",
       "3    NA                                                \n",
       "4 11502                                                \n",
       "5 13202                                                \n",
       "6 19469                                                \n",
       "  Endowment assets (year end) per FTE enrollment (FASB)\n",
       "1  NA                                                  \n",
       "2  NA                                                  \n",
       "3 302                                                  \n",
       "4  NA                                                  \n",
       "5  NA                                                  \n",
       "6  NA                                                  "
      ]
     },
     "metadata": {},
     "output_type": "display_data"
    }
   ],
   "source": [
    "college <- read_csv(\"https://raw.githubusercontent.com/mn2002/stat-201/main/data.csv\")\n",
    "head(college)"
   ]
  },
  {
   "cell_type": "markdown",
   "id": "reasonable-composition",
   "metadata": {},
   "source": [
    "*Figure 1.1: Dataset*"
   ]
  },
  {
   "cell_type": "markdown",
   "id": "hidden-combining",
   "metadata": {},
   "source": [
    "### Wrangling the Dataset"
   ]
  },
  {
   "cell_type": "code",
   "execution_count": 9,
   "id": "respected-worry",
   "metadata": {},
   "outputs": [],
   "source": [
    "## to wrangle"
   ]
  },
  {
   "cell_type": "markdown",
   "id": "individual-guyana",
   "metadata": {},
   "source": [
    "## Methods: Plan"
   ]
  },
  {
   "cell_type": "markdown",
   "id": "passive-nutrition",
   "metadata": {},
   "source": [
    "Add method paragraph here"
   ]
  },
  {
   "cell_type": "markdown",
   "id": "valuable-crack",
   "metadata": {},
   "source": [
    "## References"
   ]
  },
  {
   "cell_type": "markdown",
   "id": "considerable-championship",
   "metadata": {},
   "source": [
    "Add references here"
   ]
  }
 ],
 "metadata": {
  "kernelspec": {
   "display_name": "R",
   "language": "R",
   "name": "ir"
  },
  "language_info": {
   "codemirror_mode": "r",
   "file_extension": ".r",
   "mimetype": "text/x-r-source",
   "name": "R",
   "pygments_lexer": "r",
   "version": "4.0.3"
  }
 },
 "nbformat": 4,
 "nbformat_minor": 5
}
